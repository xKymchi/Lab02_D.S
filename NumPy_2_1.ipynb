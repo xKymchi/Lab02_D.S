{
 "cells": [
  {
   "cell_type": "markdown",
   "id": "dacf74e6",
   "metadata": {},
   "source": [
    "# NumPy"
   ]
  },
  {
   "cell_type": "markdown",
   "id": "01b2bf34",
   "metadata": {},
   "source": [
    "Read the links: https://numpy.org/doc/stable/user/quickstart.html  and https://numpy.org/doc/stable/user/basics.broadcasting.html  before solving the exercises. "
   ]
  },
  {
   "cell_type": "code",
   "execution_count": 1,
   "id": "1f79e4a6",
   "metadata": {},
   "outputs": [],
   "source": [
    "import numpy as np ## here we are importing the Numpy library, and we are \"naming/calling\" it np   "
   ]
  },
  {
   "cell_type": "markdown",
   "id": "7dae6889",
   "metadata": {},
   "source": [
    "### Print out the dimension (number of axes), shape, size and the datatype of the matrix A."
   ]
  },
  {
   "cell_type": "code",
   "execution_count": 3,
   "id": "7b3678cd",
   "metadata": {},
   "outputs": [],
   "source": [
    "A = np.arange(1, 16).reshape(3,5) \n",
    "## here we create a 1D array with values starting from 1 and ending at 15, 16 is the stop value and is not included.\n",
    "## then we use the mehtod reshape() - which change the shape of our array - in this case from a 1D array to a 2D array\n",
    "## inside the parameter we give the amount of rows and columns we want - in this case 3 rows and 5 columns"
   ]
  },
  {
   "cell_type": "code",
   "execution_count": 5,
   "id": "31d39235",
   "metadata": {},
   "outputs": [
    {
     "name": "stdout",
     "output_type": "stream",
     "text": [
      "2 (3, 5) 15 int64\n"
     ]
    }
   ],
   "source": [
    "print(A.ndim, A.shape, A.size, A.dtype) ## with the help of the different attributes of the NumPy array object \n",
    "## we call these attribute on the instance A and we can get the :\n",
    "#dimension, shape - number of rows and columns, size - the total number of elements, dtype - the data type of the elements the array contain."
   ]
  },
  {
   "cell_type": "markdown",
   "id": "e56d2a96",
   "metadata": {},
   "source": [
    "### Do the following computations on the matrices B and C: \n",
    "* Elementwise subtraction. \n",
    "* Elementwise multiplication. \n",
    "* Matrix multiplication (by default you should use the @ operator)."
   ]
  },
  {
   "cell_type": "code",
   "execution_count": 6,
   "id": "a7053fbb",
   "metadata": {},
   "outputs": [
    {
     "name": "stdout",
     "output_type": "stream",
     "text": [
      "[[1 2 3]\n",
      " [4 5 6]\n",
      " [7 8 9]]\n",
      "\n",
      "[[2. 2. 2.]\n",
      " [2. 2. 2.]\n",
      " [2. 2. 2.]]\n"
     ]
    }
   ],
   "source": [
    "B = np.arange(1, 10).reshape(3, 3)\n",
    "C = np.ones((3, 3))*2 ## \n",
    "\n",
    "print(B)\n",
    "print()\n",
    "print(C)"
   ]
  },
  {
   "cell_type": "code",
   "execution_count": 7,
   "id": "3cd794ae",
   "metadata": {},
   "outputs": [
    {
     "name": "stdout",
     "output_type": "stream",
     "text": [
      "[[-1.  0.  1.]\n",
      " [ 2.  3.  4.]\n",
      " [ 5.  6.  7.]]\n",
      "[[-1.  0.  1.]\n",
      " [ 2.  3.  4.]\n",
      " [ 5.  6.  7.]]\n"
     ]
    }
   ],
   "source": [
    "sub = B - C  ## sub stores the result of B - C, this allows us to later use this result if needed. \n",
    "print(sub)\n",
    "## or simply\n",
    "print(B - C) ## here we simply just print the result without storing the result. "
   ]
  },
  {
   "cell_type": "code",
   "execution_count": 8,
   "id": "afe7f1eb",
   "metadata": {},
   "outputs": [
    {
     "name": "stdout",
     "output_type": "stream",
     "text": [
      "[[ 2.  4.  6.]\n",
      " [ 8. 10. 12.]\n",
      " [14. 16. 18.]]\n",
      "[[ 2.  4.  6.]\n",
      " [ 8. 10. 12.]\n",
      " [14. 16. 18.]]\n"
     ]
    }
   ],
   "source": [
    "mult = B * C\n",
    "print(mult)\n",
    "## or simply\n",
    "print(B * C)"
   ]
  },
  {
   "cell_type": "code",
   "execution_count": 9,
   "id": "3969e8f0",
   "metadata": {},
   "outputs": [
    {
     "name": "stdout",
     "output_type": "stream",
     "text": [
      "[[12. 12. 12.]\n",
      " [30. 30. 30.]\n",
      " [48. 48. 48.]]\n",
      "[[12. 12. 12.]\n",
      " [30. 30. 30.]\n",
      " [48. 48. 48.]]\n"
     ]
    }
   ],
   "source": [
    "matrix = B @ C \n",
    "print(matrix)\n",
    "## or simply\n",
    "print(B @ C)"
   ]
  },
  {
   "cell_type": "markdown",
   "id": "96030d53",
   "metadata": {},
   "source": [
    "### Do the following calculations on the matrix:\n",
    "* Exponentiate each number elementwise (use the np.exp function).\n",
    "\n",
    "* Calculate the minimum value in the whole matrix. \n",
    "* Calculcate the minimum value in each row. \n",
    "* Calculcate the minimum value in each column. \n",
    "\n",
    "\n",
    "* Find the index value for the minimum value in the whole matrix (hint: use np.argmin).\n",
    "* Find the index value for the minimum value in each row (hint: use np.argmin).\n",
    "\n",
    "\n",
    "* Calculate the sum for all elements.\n",
    "* Calculate the mean for each column. \n",
    "* Calculate the median for each column. "
   ]
  },
  {
   "cell_type": "code",
   "execution_count": 10,
   "id": "f8a9166b",
   "metadata": {},
   "outputs": [
    {
     "name": "stdout",
     "output_type": "stream",
     "text": [
      "[[1 2 3]\n",
      " [4 5 6]\n",
      " [7 8 9]]\n"
     ]
    }
   ],
   "source": [
    "B = np.arange(1, 10).reshape(3, 3)\n",
    "print(B)"
   ]
  },
  {
   "cell_type": "code",
   "execution_count": 11,
   "id": "f03f24f7",
   "metadata": {},
   "outputs": [
    {
     "name": "stdout",
     "output_type": "stream",
     "text": [
      "[[2.71828183e+00 7.38905610e+00 2.00855369e+01]\n",
      " [5.45981500e+01 1.48413159e+02 4.03428793e+02]\n",
      " [1.09663316e+03 2.98095799e+03 8.10308393e+03]]\n",
      "[[2.71828183e+00 7.38905610e+00 2.00855369e+01]\n",
      " [5.45981500e+01 1.48413159e+02 4.03428793e+02]\n",
      " [1.09663316e+03 2.98095799e+03 8.10308393e+03]]\n"
     ]
    }
   ],
   "source": [
    "## Exponent\n",
    "exponent = np.exp(B)\n",
    "print(exponent)\n",
    "## or simply\n",
    "print(np.exp(B))"
   ]
  },
  {
   "cell_type": "code",
   "execution_count": 12,
   "id": "9ea83861",
   "metadata": {},
   "outputs": [
    {
     "name": "stdout",
     "output_type": "stream",
     "text": [
      "1\n"
     ]
    }
   ],
   "source": [
    "## Minimum value in whole matrix\n",
    "print(np.min(B)) ## function that returns the minimum value of the entire array B"
   ]
  },
  {
   "cell_type": "code",
   "execution_count": 13,
   "id": "75e57d03",
   "metadata": {},
   "outputs": [
    {
     "name": "stdout",
     "output_type": "stream",
     "text": [
      "[1 4 7]\n"
     ]
    }
   ],
   "source": [
    "## Minimum value in each row \n",
    "print(np.min(B, axis = 1)) ## function that returns the minimum value of the array for each row (row index starts with 1)\n",
    "## inside the parameter you specify what axis you want to check the min value for."
   ]
  },
  {
   "cell_type": "code",
   "execution_count": 14,
   "id": "5a2db5e7",
   "metadata": {},
   "outputs": [
    {
     "name": "stdout",
     "output_type": "stream",
     "text": [
      "[1 2 3]\n"
     ]
    }
   ],
   "source": [
    "## Minimum value in each column \n",
    "print(np.min(B, axis = 0)) ## function that returns the minmum value of the array for each column (column index starrts with 1)"
   ]
  },
  {
   "cell_type": "code",
   "execution_count": 15,
   "id": "1414d1c9",
   "metadata": {},
   "outputs": [
    {
     "data": {
      "text/plain": [
       "0"
      ]
     },
     "execution_count": 15,
     "metadata": {},
     "output_type": "execute_result"
    }
   ],
   "source": [
    "## Find index value for the minimum value in whole matrix \n",
    "np.argmin(B) ## function that returns the minimum "
   ]
  },
  {
   "cell_type": "code",
   "execution_count": 14,
   "id": "5cb1559c",
   "metadata": {},
   "outputs": [
    {
     "data": {
      "text/plain": [
       "array([0, 0, 0])"
      ]
     },
     "execution_count": 14,
     "metadata": {},
     "output_type": "execute_result"
    }
   ],
   "source": [
    "## Find index value for the minimum value in each row\n",
    "np.argmin(B, axis = 1) ## function that returns the minimu value for specified axis "
   ]
  },
  {
   "cell_type": "code",
   "execution_count": 16,
   "id": "e6713532",
   "metadata": {},
   "outputs": [
    {
     "data": {
      "text/plain": [
       "45"
      ]
     },
     "execution_count": 16,
     "metadata": {},
     "output_type": "execute_result"
    }
   ],
   "source": [
    "## calculate sum for ALL elements\n",
    "np.sum(B) ## function that calculates the sum of all the elements in array "
   ]
  },
  {
   "cell_type": "code",
   "execution_count": 17,
   "id": "fa392d40",
   "metadata": {},
   "outputs": [
    {
     "data": {
      "text/plain": [
       "array([4., 5., 6.])"
      ]
     },
     "execution_count": 17,
     "metadata": {},
     "output_type": "execute_result"
    }
   ],
   "source": [
    "## Calculate the MEAN for each column \n",
    "np.mean(B, axis = 0) ## fucntion that calculates the mean for specified axis "
   ]
  },
  {
   "cell_type": "code",
   "execution_count": 18,
   "id": "e4c01161",
   "metadata": {},
   "outputs": [
    {
     "data": {
      "text/plain": [
       "array([4., 5., 6.])"
      ]
     },
     "execution_count": 18,
     "metadata": {},
     "output_type": "execute_result"
    }
   ],
   "source": [
    "## Calculate the MEDIAN for each column\n",
    "np.median(B, axis = 0) ## fucntion that calculates the mean for specified axis"
   ]
  },
  {
   "cell_type": "markdown",
   "id": "541eb7ba",
   "metadata": {},
   "source": [
    "### What does it mean when you provide fewer indices than axes when slicing? See example below."
   ]
  },
  {
   "cell_type": "code",
   "execution_count": 19,
   "id": "9c8abf56",
   "metadata": {},
   "outputs": [
    {
     "name": "stdout",
     "output_type": "stream",
     "text": [
      "[[ 1  2  3  4  5]\n",
      " [ 6  7  8  9 10]\n",
      " [11 12 13 14 15]]\n"
     ]
    }
   ],
   "source": [
    "print(A)"
   ]
  },
  {
   "cell_type": "code",
   "execution_count": 20,
   "id": "69415f7b",
   "metadata": {},
   "outputs": [
    {
     "data": {
      "text/plain": [
       "array([ 6,  7,  8,  9, 10])"
      ]
     },
     "execution_count": 20,
     "metadata": {},
     "output_type": "execute_result"
    }
   ],
   "source": [
    "A[1] "
   ]
  },
  {
   "cell_type": "markdown",
   "id": "6c53541b",
   "metadata": {},
   "source": [
    "**Answer:**"
   ]
  },
  {
   "cell_type": "code",
   "execution_count": 20,
   "id": "de01e120",
   "metadata": {},
   "outputs": [],
   "source": [
    "## in the given example above we have provided with index 1 which is the second row in the array, \n",
    "## this means that we are now only accesing the elements within the second row"
   ]
  },
  {
   "cell_type": "markdown",
   "id": "6652d0c9",
   "metadata": {},
   "source": [
    "### Iterating over multidimensional arrays is done with respect to the first axis, so in the example below we iterate trough the rows. If you would like to iterate through the array *elementwise*, how would you do that?"
   ]
  },
  {
   "cell_type": "code",
   "execution_count": 21,
   "id": "9459864f",
   "metadata": {},
   "outputs": [
    {
     "data": {
      "text/plain": [
       "array([[ 1,  2,  3,  4,  5],\n",
       "       [ 6,  7,  8,  9, 10],\n",
       "       [11, 12, 13, 14, 15]])"
      ]
     },
     "execution_count": 21,
     "metadata": {},
     "output_type": "execute_result"
    }
   ],
   "source": [
    "A"
   ]
  },
  {
   "cell_type": "code",
   "execution_count": 22,
   "id": "a671bb5a",
   "metadata": {},
   "outputs": [
    {
     "name": "stdout",
     "output_type": "stream",
     "text": [
      "[1 2 3 4 5]\n",
      "[ 6  7  8  9 10]\n",
      "[11 12 13 14 15]\n"
     ]
    }
   ],
   "source": [
    "for i in A:\n",
    "    print(i)  ## iterating over the rows of the array A and printing the rows for each iteration"
   ]
  },
  {
   "cell_type": "code",
   "execution_count": 23,
   "id": "f4e443a0",
   "metadata": {},
   "outputs": [
    {
     "name": "stdout",
     "output_type": "stream",
     "text": [
      "1\n",
      "2\n",
      "3\n",
      "4\n",
      "5\n",
      "6\n",
      "7\n",
      "8\n",
      "9\n",
      "10\n",
      "11\n",
      "12\n",
      "13\n",
      "14\n",
      "15\n"
     ]
    }
   ],
   "source": [
    "for element in np.nditer(A): ## with the help of the nditer() function we can iterate over every element in the array \n",
    "    print(element)"
   ]
  },
  {
   "cell_type": "code",
   "execution_count": 24,
   "id": "14b3dabd",
   "metadata": {},
   "outputs": [
    {
     "name": "stdout",
     "output_type": "stream",
     "text": [
      "1\n",
      "2\n",
      "3\n",
      "4\n",
      "5\n",
      "6\n",
      "7\n",
      "8\n",
      "9\n",
      "10\n",
      "11\n",
      "12\n",
      "13\n",
      "14\n",
      "15\n"
     ]
    }
   ],
   "source": [
    "for row in A: ## this is a nested loop - first we iterate through the rows of the array A \n",
    "    for element in row: ## and when within the loop of A we iterate through each element and print \n",
    "        print(element)"
   ]
  },
  {
   "cell_type": "markdown",
   "id": "608a2583",
   "metadata": {},
   "source": [
    "### Explain what the code below does. More specifically, b has three axes - what does this mean? "
   ]
  },
  {
   "cell_type": "code",
   "execution_count": 25,
   "id": "f8f9b26f",
   "metadata": {},
   "outputs": [
    {
     "name": "stdout",
     "output_type": "stream",
     "text": [
      "[ 0  1  2  3  4  5  6  7  8  9 10 11 12 13 14 15 16 17 18 19 20 21 22 23\n",
      " 24 25 26 27 28 29]\n",
      "\n",
      "[[[ 0  1  2  3  4]\n",
      "  [ 5  6  7  8  9]\n",
      "  [10 11 12 13 14]]\n",
      "\n",
      " [[15 16 17 18 19]\n",
      "  [20 21 22 23 24]\n",
      "  [25 26 27 28 29]]]\n"
     ]
    }
   ],
   "source": [
    "a = np.arange(30)\n",
    "b = a.reshape((2, 3, -1))\n",
    "print(a)\n",
    "print()\n",
    "\n",
    "print(b)"
   ]
  },
  {
   "cell_type": "code",
   "execution_count": null,
   "id": "863a45df",
   "metadata": {},
   "outputs": [],
   "source": [
    "## We start with creating a Numpy array named 'a' with 30 elements,\n",
    "## due to the startpoint of indexing being 0, we have integers 0 to 29 which in total is 30 elements, since the stop value is excluded\n",
    "## Then we declare a variable named 'b' which uses the 'reshape' method in that belong to the ndarray object to rechange the shape of the array\n",
    "## this method allows us to add/remove dimensions or change number of elements in each dimension.\n",
    "## We print 'a' which is the original array\n",
    "## then we print 'b' which is the array with the changes added to it\n",
    "## in this case we started with a 1D array then reshaped the array into a 3D array. "
   ]
  },
  {
   "cell_type": "markdown",
   "id": "421c9607-819a-401d-949a-97424436fe29",
   "metadata": {},
   "source": [
    "# For the exercises below, read the document *\"matematik_yh_antonio_vektorer_matriser_utdrag\"*\n",
    "# Solutions to the exercises and recorded videos can be found here: https://github.com/AntonioPrgomet/matematik_foer_yh\n",
    "\n",
    "# If you find the exercises below very hard, do not worry. Try your best, that will be enough. "
   ]
  },
  {
   "cell_type": "markdown",
   "id": "ab5933d5",
   "metadata": {},
   "source": [
    "### Broadcasting\n",
    "**Read the following link about broadcasting: https://numpy.org/doc/stable/user/basics.broadcasting.html#basics-broadcasting**"
   ]
  },
  {
   "cell_type": "markdown",
   "id": "039805ba",
   "metadata": {},
   "source": [
    "# Remark on Broadcasting when doing Linear Algebra calculations in Python. "
   ]
  },
  {
   "cell_type": "markdown",
   "id": "c4bcc147",
   "metadata": {},
   "source": [
    "### From the mathematical rules of matrix addition, the operation below (m1 + m2) does not make sense. The reason is that matrix addition requires two matrices of the same size. In Python however, it works due to broadcasting rules in NumPy. So you must be careful when doing Linear Algebra calculations in Python since they do not follow the \"mathematical rules\". This can however easily be handled by doing some simple programming, for example validating that two matrices have the same shape is easy if you for instance want to add two matrices. "
   ]
  },
  {
   "cell_type": "code",
   "execution_count": 26,
   "id": "1fd46778",
   "metadata": {},
   "outputs": [
    {
     "name": "stdout",
     "output_type": "stream",
     "text": [
      "[[2 3]\n",
      " [4 5]]\n"
     ]
    }
   ],
   "source": [
    "m1 = np.array([[1, 2], [3, 4]])\n",
    "m2 = np.array([1, 1])\n",
    "print(m1 + m2)"
   ]
  },
  {
   "cell_type": "markdown",
   "id": "047d6576",
   "metadata": {},
   "source": [
    "### The example below would also not be allowed if following the \"mathematical rules\" in Linear Algebra. But it works due to broadcasting in NumPy. "
   ]
  },
  {
   "cell_type": "code",
   "execution_count": 27,
   "id": "5e6ef2e4",
   "metadata": {},
   "outputs": [
    {
     "name": "stdout",
     "output_type": "stream",
     "text": [
      "[2 3 4]\n"
     ]
    }
   ],
   "source": [
    "v1 = np.array([1, 2, 3])\n",
    "print(v1 + 1)"
   ]
  },
  {
   "cell_type": "code",
   "execution_count": 28,
   "id": "e2cbae26",
   "metadata": {},
   "outputs": [
    {
     "name": "stdout",
     "output_type": "stream",
     "text": [
      "[[1 2]\n",
      " [3 4]]\n",
      "[2 2]\n"
     ]
    }
   ],
   "source": [
    "A = np.arange(1, 5).reshape(2,2)\n",
    "print(A)\n",
    "\n",
    "b = np.array([2, 2])\n",
    "print(b)"
   ]
  },
  {
   "cell_type": "markdown",
   "id": "722fd5cd",
   "metadata": {},
   "source": [
    "# Vector- and matrix algebra Exercises"
   ]
  },
  {
   "cell_type": "markdown",
   "id": "b63a3081-d976-4d9f-bfd0-a63917e79f7d",
   "metadata": {},
   "source": [
    "**Now you are going to create a function that can be reused every time you add or multiply matrices. The function is created so that we do the addition and multiplication according to the rules of vector- and matrix algebra.**\n",
    "\n",
    "**Create a function \"add_mult_matrices\" that takes two matrices as input arguments (validate that the input are of the type numpy.ndarray by using the isinstance function), a third argument that is either 'add' or 'multiply' that specifies if you want to add or multiply the matrices (validate that the third argument is either 'add' or 'multiply'). When doing matrix addition, validate that the matrices have the same size. When doing matrix multiplication, validate that the sizes conform (i.e. number of columns in the first matrix is equal to the number of rows in the second matrix).**"
   ]
  },
  {
   "cell_type": "code",
   "execution_count": 30,
   "id": "3506f977-ac0a-473f-85bc-eec9f35dc498",
   "metadata": {},
   "outputs": [],
   "source": [
    "def add_mult_matrices(arg1,arg2,operation): ## creating a function called add_mult_matrices, with two arguments for Numpy array and one for operation type\n",
    "    if not isinstance(arg1, np.ndarray) or not isinstance (arg2, np.ndarray): ## we check if arg1 and arg2 are NumPy array \n",
    "        raise ValueError ('the given arguments are not matrices') ## if one of the arg1/arg2 is not a NumPy array then this error is raised \n",
    "    \n",
    "    if operation == 'add': ## we check if the operation is 'add'  \n",
    "        if arg1.size == arg2.size: ## and if the matrices given have the same element size\n",
    "            return arg1 + arg2 ## if so then the two arguments are added, \n",
    "        else:\n",
    "            raise ValueError ('The matrices do not have the same sizze..') ## if not then an error is raised \n",
    "    elif operation == 'multiply': ## we check if the operation is 'multiply'\n",
    "        if arg1.size == arg2.size: ## and if the matrices given have the same element size \n",
    "            return arg1 * arg2 ## if so then the two arguments are multiplied, \n",
    "        else: \n",
    "            raise ValueError ('The matrices do not have the same shape..') ## if not then an error is raised\n",
    "\n",
    "\n",
    " \n"
   ]
  },
  {
   "cell_type": "code",
   "execution_count": 31,
   "id": "64aa7d5d",
   "metadata": {},
   "outputs": [],
   "source": [
    "A = np.array ([[1, 2, 3]])\n",
    "B = np.array ([[9, 8, 7]])"
   ]
  },
  {
   "cell_type": "code",
   "execution_count": 32,
   "id": "613ab576",
   "metadata": {},
   "outputs": [
    {
     "name": "stdout",
     "output_type": "stream",
     "text": [
      "[[10 10 10]]\n"
     ]
    }
   ],
   "source": [
    "print(add_mult_matrices(A, B, 'add'))"
   ]
  },
  {
   "cell_type": "code",
   "execution_count": 33,
   "id": "923a6ae1",
   "metadata": {},
   "outputs": [
    {
     "name": "stdout",
     "output_type": "stream",
     "text": [
      "[[ 9 16 21]]\n"
     ]
    }
   ],
   "source": [
    "print(add_mult_matrices(A, B, 'multiply'))"
   ]
  },
  {
   "cell_type": "markdown",
   "id": "8dad82d0-2359-4dff-8f5b-a57d3e34103c",
   "metadata": {},
   "source": [
    "### Solve all the exercises in chapter 10.1 in the book \"Matematik för yrkeshögskolan\" by using Python. "
   ]
  },
  {
   "cell_type": "code",
   "execution_count": 34,
   "id": "89df88af-3668-4d98-a0a4-e6d92eea0f89",
   "metadata": {},
   "outputs": [],
   "source": [
    "## 10.1.1\n",
    "## Definera vektorn x enligt nedan , x = (4,3)\n",
    "x = np.array([4, 3])"
   ]
  },
  {
   "cell_type": "code",
   "execution_count": 35,
   "id": "f1299fd5",
   "metadata": {},
   "outputs": [
    {
     "name": "stdout",
     "output_type": "stream",
     "text": [
      "(2,)\n"
     ]
    }
   ],
   "source": [
    "## (a) vilken dimension har vektron x? \n",
    "print(x.shape)"
   ]
  },
  {
   "cell_type": "code",
   "execution_count": 37,
   "id": "0766f5b6",
   "metadata": {},
   "outputs": [
    {
     "name": "stdout",
     "output_type": "stream",
     "text": [
      "[20 15]\n"
     ]
    }
   ],
   "source": [
    "## (b) beräkna 5x?\n",
    "print(5 * x)"
   ]
  },
  {
   "cell_type": "code",
   "execution_count": 40,
   "id": "81473bc4",
   "metadata": {},
   "outputs": [
    {
     "name": "stdout",
     "output_type": "stream",
     "text": [
      "[12  9]\n"
     ]
    }
   ],
   "source": [
    "## (c) beräkna 3x?\n",
    "print(3 * x)"
   ]
  },
  {
   "cell_type": "code",
   "execution_count": 43,
   "id": "5358d949",
   "metadata": {},
   "outputs": [
    {
     "name": "stdout",
     "output_type": "stream",
     "text": [
      "[32 24]\n"
     ]
    }
   ],
   "source": [
    "## (d) beräkna 5x + 3x?\n",
    "five_x = 5 * x\n",
    "three_x = 3 * x\n",
    "print(five_x + three_x)"
   ]
  },
  {
   "cell_type": "code",
   "execution_count": 44,
   "id": "38ca8ea4",
   "metadata": {},
   "outputs": [
    {
     "name": "stdout",
     "output_type": "stream",
     "text": [
      "[32 24]\n"
     ]
    }
   ],
   "source": [
    "## (e) beräkna 8x?\n",
    "print(8 * x)"
   ]
  },
  {
   "cell_type": "code",
   "execution_count": 45,
   "id": "607fb829",
   "metadata": {},
   "outputs": [
    {
     "name": "stdout",
     "output_type": "stream",
     "text": [
      "[12  9]\n"
     ]
    }
   ],
   "source": [
    "## (f) beräknar 4x - x? \n",
    "four_x = 4 * x\n",
    "print(four_x - x)"
   ]
  },
  {
   "cell_type": "code",
   "execution_count": 48,
   "id": "ca172b44",
   "metadata": {},
   "outputs": [
    {
     "name": "stdout",
     "output_type": "stream",
     "text": [
      "[[4]\n",
      " [3]]\n"
     ]
    }
   ],
   "source": [
    "## (g) beräkna x^T, vilken blir den nya dimensionen efter att transponeringen utförts? \n",
    "print(x.reshape(-1, 1))"
   ]
  },
  {
   "cell_type": "code",
   "execution_count": 52,
   "id": "7c1cc89a",
   "metadata": {},
   "outputs": [
    {
     "name": "stdout",
     "output_type": "stream",
     "text": [
      "[[8 7]\n",
      " [7 6]]\n"
     ]
    }
   ],
   "source": [
    "## (h) är x + x^T definerat?\n",
    "print(x + x.reshape(-1, 1))\n",
    "## we are supposed to get an error but due to broadcasting we get an answer which we shouldn't. \n",
    "## so, the answer is no, it's not defined since the dimensions do not match!"
   ]
  },
  {
   "cell_type": "code",
   "execution_count": 53,
   "id": "2be26699",
   "metadata": {},
   "outputs": [
    {
     "name": "stdout",
     "output_type": "stream",
     "text": [
      "5.0\n"
     ]
    }
   ],
   "source": [
    "## (i) beräkna ||x||.\n",
    "print(np.linalg.norm(x))"
   ]
  },
  {
   "cell_type": "code",
   "execution_count": 57,
   "id": "4fb9d9c2",
   "metadata": {},
   "outputs": [],
   "source": [
    "## 10.1.2 \n",
    "v = np.array([3, 7, 0, 11])"
   ]
  },
  {
   "cell_type": "code",
   "execution_count": 58,
   "id": "89d285cb",
   "metadata": {},
   "outputs": [
    {
     "name": "stdout",
     "output_type": "stream",
     "text": [
      "(4,)\n"
     ]
    }
   ],
   "source": [
    "## (a) vilken dimension har vektorn v?\n",
    "print(v.shape)"
   ]
  },
  {
   "cell_type": "code",
   "execution_count": 59,
   "id": "b5a18101",
   "metadata": {},
   "outputs": [
    {
     "name": "stdout",
     "output_type": "stream",
     "text": [
      "[ 6 14  0 22]\n"
     ]
    }
   ],
   "source": [
    "## (b) beräkna 2v?\n",
    "print(2 * v)"
   ]
  },
  {
   "cell_type": "code",
   "execution_count": 60,
   "id": "afd7b05f",
   "metadata": {},
   "outputs": [
    {
     "name": "stdout",
     "output_type": "stream",
     "text": [
      "[21 49  0 77]\n"
     ]
    }
   ],
   "source": [
    "## (c) beräkna 5v + 2v?\n",
    "five_v = 5 * v\n",
    "two_v = 2 * v\n",
    "print(five_v + two_v)"
   ]
  },
  {
   "cell_type": "code",
   "execution_count": 61,
   "id": "8df631af",
   "metadata": {},
   "outputs": [
    {
     "name": "stdout",
     "output_type": "stream",
     "text": [
      "[ 6 14  0 22]\n"
     ]
    }
   ],
   "source": [
    "## (d) beräkna 4v - 2v?\n",
    "four_v = 4 * v\n",
    "two_v = 2 * v\n",
    "print(four_v - two_v)"
   ]
  },
  {
   "cell_type": "code",
   "execution_count": 62,
   "id": "24cf9457",
   "metadata": {},
   "outputs": [
    {
     "data": {
      "text/plain": [
       "array([[ 3],\n",
       "       [ 7],\n",
       "       [ 0],\n",
       "       [11]])"
      ]
     },
     "execution_count": 62,
     "metadata": {},
     "output_type": "execute_result"
    }
   ],
   "source": [
    "## (e) beräkna v^T, vilken blir den nya dimensionen efter att transponeringen utförts? \n",
    "v.reshape(-1, 1)"
   ]
  },
  {
   "cell_type": "code",
   "execution_count": 63,
   "id": "3d870443",
   "metadata": {},
   "outputs": [
    {
     "name": "stdout",
     "output_type": "stream",
     "text": [
      "13.379088160259652\n"
     ]
    }
   ],
   "source": [
    "## (f) beräkna ||v||.\n",
    "print(np.linalg.norm(v))"
   ]
  },
  {
   "cell_type": "code",
   "execution_count": 67,
   "id": "8f895926",
   "metadata": {},
   "outputs": [],
   "source": [
    "## 10.1.3 \n",
    "## definera vektorn \n",
    "# v1 = (4, 3, 1, 5) och v2 = (2, 3, 1, 1)\n",
    "v1 = ([4, 3, 1, 5])\n",
    "v2 = ([2, 3, 1, 1])"
   ]
  },
  {
   "cell_type": "code",
   "execution_count": 68,
   "id": "9682455a",
   "metadata": {},
   "outputs": [
    {
     "name": "stdout",
     "output_type": "stream",
     "text": [
      "7.14142842854285\n"
     ]
    }
   ],
   "source": [
    "## (a) beräkna ||v1||.\n",
    "print(np.linalg.norm(v1))"
   ]
  },
  {
   "cell_type": "code",
   "execution_count": 70,
   "id": "50372eea",
   "metadata": {},
   "outputs": [
    {
     "name": "stdout",
     "output_type": "stream",
     "text": [
      "3.2684450823354334\n"
     ]
    }
   ],
   "source": [
    "## beräkna ||v1|| - ||v2||.\n",
    "v1_norm = np.linalg.norm(v1)\n",
    "v2_norm = np.linalg.norm(v2)\n",
    "print(v1_norm - v2_norm)"
   ]
  },
  {
   "cell_type": "markdown",
   "id": "75c98984-1f88-4df1-b850-d2466de444a5",
   "metadata": {},
   "source": [
    "### Solve all the exercises, except 10.2.4, in chapter 10.2 in the book \"Matematik för yrkeshögskolan\" by using Python. "
   ]
  },
  {
   "cell_type": "code",
   "execution_count": 72,
   "id": "65371610-16e1-48b2-b7fb-65e49002608a",
   "metadata": {},
   "outputs": [],
   "source": [
    "A = np.array([[2, 1, -1,], [1, -1, 1]])\n",
    "B = np.array([[4, -2, 1], [2, -4, -2]])\n",
    "C = np.array([[1, 2,], [2, 1]])\n",
    "D = np.array([[3, 4], [4, 3]])\n",
    "E = np.array([1,2])\n",
    "I = np.array([[1, 0], [0, 1]])"
   ]
  },
  {
   "cell_type": "code",
   "execution_count": 75,
   "id": "196560c0",
   "metadata": {},
   "outputs": [
    {
     "name": "stdout",
     "output_type": "stream",
     "text": [
      "[[ 4  2 -2]\n",
      " [ 2 -2  2]]\n"
     ]
    }
   ],
   "source": [
    "## (a) 2A\n",
    "print(2 * A)"
   ]
  },
  {
   "cell_type": "code",
   "execution_count": 76,
   "id": "845c9d04",
   "metadata": {},
   "outputs": [
    {
     "name": "stdout",
     "output_type": "stream",
     "text": [
      "[[ 0 -4  3]\n",
      " [ 0 -2 -4]]\n"
     ]
    }
   ],
   "source": [
    "## (b) B - 2A\n",
    "two_a = 2 * A\n",
    "print(B - two_a)"
   ]
  },
  {
   "cell_type": "code",
   "execution_count": 78,
   "id": "2d09e524",
   "metadata": {},
   "outputs": [
    {
     "name": "stdout",
     "output_type": "stream",
     "text": [
      "[[ 1  2]\n",
      " [ 4 -1]]\n"
     ]
    }
   ],
   "source": [
    "## (c) 3C - 2E \n",
    "three_c = 3 * C\n",
    "two_e = 2 * E\n",
    "print(three_c - two_e)\n",
    "## its not supposed to be defined but is due to broadcasting"
   ]
  },
  {
   "cell_type": "code",
   "execution_count": 79,
   "id": "93dc53c5",
   "metadata": {},
   "outputs": [
    {
     "name": "stdout",
     "output_type": "stream",
     "text": [
      "[[3 2]\n",
      " [2 3]]\n"
     ]
    }
   ],
   "source": [
    "## (d) 2D - 3C \n",
    "two_d = 2 * D\n",
    "three_c = 3 * C\n",
    "print(two_d - three_c)"
   ]
  },
  {
   "cell_type": "code",
   "execution_count": 86,
   "id": "eca40ca8",
   "metadata": {},
   "outputs": [
    {
     "name": "stdout",
     "output_type": "stream",
     "text": [
      "[[ 9 12]\n",
      " [12  9]]\n"
     ]
    }
   ],
   "source": [
    "## (e) D^T + 2D\n",
    "transp_d = D.T\n",
    "two_d = 2 * D\n",
    "print(transp_d + two_d)\n"
   ]
  },
  {
   "cell_type": "code",
   "execution_count": 88,
   "id": "bebe66cb",
   "metadata": {},
   "outputs": [
    {
     "name": "stdout",
     "output_type": "stream",
     "text": [
      "[[-4 -4]\n",
      " [-4 -4]]\n"
     ]
    }
   ],
   "source": [
    "## (f) 2C^T - 2D^T\n",
    "transp_2c = 2 * C.T \n",
    "transp_2d = 2 * D.T\n",
    "print(transp_2c - transp_2d)"
   ]
  },
  {
   "cell_type": "code",
   "execution_count": 108,
   "id": "1292ca47",
   "metadata": {},
   "outputs": [
    {
     "name": "stdout",
     "output_type": "stream",
     "text": [
      "not defined!..\n"
     ]
    }
   ],
   "source": [
    "## (g) A^T - B \n",
    "transp_a = A.T\n",
    "try:\n",
    "    result_sub = transp_a - B\n",
    "except:\n",
    "    print(\"not defined!..\")"
   ]
  },
  {
   "cell_type": "code",
   "execution_count": 121,
   "id": "25603b17",
   "metadata": {},
   "outputs": [
    {
     "name": "stdout",
     "output_type": "stream",
     "text": [
      "not defined!..\n"
     ]
    }
   ],
   "source": [
    "## (h) AC\n",
    "try: \n",
    "   result = A @ B \n",
    "except:\n",
    "    print(\"not defined!..\")"
   ]
  },
  {
   "cell_type": "code",
   "execution_count": 114,
   "id": "42926b27",
   "metadata": {},
   "outputs": [
    {
     "name": "stdout",
     "output_type": "stream",
     "text": [
      "[[11 10]\n",
      " [10 11]]\n"
     ]
    }
   ],
   "source": [
    "## (i) CD \n",
    "print(C @ D)"
   ]
  },
  {
   "cell_type": "code",
   "execution_count": 116,
   "id": "103f9f27",
   "metadata": {},
   "outputs": [
    {
     "name": "stdout",
     "output_type": "stream",
     "text": [
      "[[  8 -10  -3]\n",
      " [ 10  -8   0]]\n"
     ]
    }
   ],
   "source": [
    "## (j) CB \n",
    "print(C @ B)"
   ]
  },
  {
   "cell_type": "code",
   "execution_count": 117,
   "id": "969ebb50",
   "metadata": {},
   "outputs": [
    {
     "name": "stdout",
     "output_type": "stream",
     "text": [
      "[[1 2]\n",
      " [2 1]]\n"
     ]
    }
   ],
   "source": [
    "## (k) CI\n",
    "print(C @ I)"
   ]
  },
  {
   "cell_type": "code",
   "execution_count": 119,
   "id": "93eff574",
   "metadata": {},
   "outputs": [
    {
     "name": "stdout",
     "output_type": "stream",
     "text": [
      "[[5 2]\n",
      " [7 4]]\n"
     ]
    }
   ],
   "source": [
    "## (l) AB^T \n",
    "transp_b = B.T\n",
    "result = A @ transp_b\n",
    "print(result)"
   ]
  },
  {
   "cell_type": "code",
   "execution_count": 152,
   "id": "aa55f2e8",
   "metadata": {},
   "outputs": [
    {
     "name": "stdout",
     "output_type": "stream",
     "text": [
      "[[29 26]\n",
      " [26 42]]\n"
     ]
    }
   ],
   "source": [
    "## 10.2.2 \n",
    "A = np.array([[2, 3, 4], [5, 4, 1]])\n",
    "\n",
    "## beräkna AA^T\n",
    "transp_AA = A.T\n",
    "print(A @ transp_AA)"
   ]
  },
  {
   "cell_type": "code",
   "execution_count": 158,
   "id": "74459acb",
   "metadata": {},
   "outputs": [],
   "source": [
    "## 10.2.3 \n",
    "A1 = np.array([[1, 2], [2, 4]])\n",
    "B1 = np.array([[2, 1], [1, 3]])\n",
    "C1 = np.array([[4, 3], [0, 2]])"
   ]
  },
  {
   "cell_type": "code",
   "execution_count": 196,
   "id": "b59d28fd",
   "metadata": {},
   "outputs": [
    {
     "name": "stdout",
     "output_type": "stream",
     "text": [
      "AB : \n",
      "[[ 4  7]\n",
      " [ 8 14]]\n",
      "\n",
      "AC : \n",
      "[[ 4  7]\n",
      " [ 8 14]]\n",
      "\n",
      "B : \n",
      "[[2 1]\n",
      " [1 3]]\n",
      "\n",
      "C : \n",
      "[[4 3]\n",
      " [0 2]]\n",
      "\n",
      "is AB EQUAL to AC?\n",
      "True\n",
      "\n",
      "is B NOT EQUAL to C?\n",
      "True\n"
     ]
    }
   ],
   "source": [
    "## AB\n",
    "result_ab1 = A1 @ B1\n",
    "print('AB : ')\n",
    "print(result_ab1)\n",
    "print()\n",
    "\n",
    "## AC \n",
    "result_ac1 = A1 @ C1\n",
    "print('AC : ')\n",
    "print(result_ac1)\n",
    "print()\n",
    "\n",
    "## B\n",
    "print('B : ')\n",
    "print(B1)\n",
    "print()\n",
    "\n",
    "## C\n",
    "print('C : ')\n",
    "print(C1)\n",
    "print()\n",
    "\n",
    "print('is AB EQUAL to AC?')\n",
    "bool_is_equal = np.array_equal(result_ab1, result_ac1)\n",
    "print(bool_is_equal)\n",
    "print()\n",
    "\n",
    "print('is B NOT EQUAL to C?')\n",
    "bool_is_not_equal = not np.array_equal(B1, C1)\n",
    "print(bool_is_not_equal)"
   ]
  },
  {
   "cell_type": "markdown",
   "id": "6a4a524f",
   "metadata": {},
   "source": [
    "### Copies and Views\n",
    "Read the following link: https://numpy.org/doc/stable/user/basics.copies.html"
   ]
  },
  {
   "cell_type": "markdown",
   "id": "6cbbeaf7",
   "metadata": {},
   "source": [
    "**Basic indexing creates a view, How can you check if v1 and v2 is a view or copy? If you change the last element in v2 to 123, will the last element in v1 be changed? Why?**"
   ]
  },
  {
   "cell_type": "code",
   "execution_count": 208,
   "id": "5b9ef4df",
   "metadata": {},
   "outputs": [
    {
     "name": "stdout",
     "output_type": "stream",
     "text": [
      "[0 1 2 3]\n",
      "[2 3]\n"
     ]
    }
   ],
   "source": [
    "v1 = np.arange(4)\n",
    "v2 = v1[-2:]\n",
    "print(v1)\n",
    "print(v2)"
   ]
  },
  {
   "cell_type": "code",
   "execution_count": null,
   "id": "5edc8481",
   "metadata": {},
   "outputs": [],
   "source": [
    "## changes made to the copy do not change the original array. "
   ]
  },
  {
   "cell_type": "code",
   "execution_count": 198,
   "id": "d2440489",
   "metadata": {},
   "outputs": [
    {
     "name": "stdout",
     "output_type": "stream",
     "text": [
      "None\n",
      "[0 1 2 3]\n"
     ]
    }
   ],
   "source": [
    "# The base attribute of a view returns the original array while it returns None for a copy.\n",
    "print(v1.base)\n",
    "print(v2.base)"
   ]
  },
  {
   "cell_type": "code",
   "execution_count": 199,
   "id": "c8752807",
   "metadata": {},
   "outputs": [
    {
     "name": "stdout",
     "output_type": "stream",
     "text": [
      "[  0   1   2 123]\n",
      "[  2 123]\n"
     ]
    }
   ],
   "source": [
    "# The last element in v1 will be changed aswell since v2 is a view, meaning they share the same data buffer.\n",
    "v2[-1] = 123\n",
    "print(v1)\n",
    "print(v2)"
   ]
  },
  {
   "cell_type": "code",
   "execution_count": 213,
   "id": "3dd68221",
   "metadata": {},
   "outputs": [],
   "source": [
    "## Every Numpy array have the attribute 'base' which allows us to simply know what is a view and what is a copy. \n",
    "## when using the attribute 'base', if 'None' is returned it means that the array is a copy and that the array owns the data,\n",
    "## meaning that if any changes happen here, it will not reflect on the original array.\n",
    "## BUT\n",
    "## if an actual array is returned it means that it is a view of the orginal array and does not own the data.\n",
    "## if there would be any changes happening the original array would also be affected.\n",
    "## thereby v1 in this case is a copy since 'None' is returned and v2 is a view of v1 because a array is returned.\n",
    "##\n",
    "## Since v2 is a view of v1 any changes in v2 will be reflected on v1 because they share the same data buffer. "
   ]
  },
  {
   "cell_type": "code",
   "execution_count": null,
   "id": "58059aa7",
   "metadata": {},
   "outputs": [],
   "source": []
  }
 ],
 "metadata": {
  "kernelspec": {
   "display_name": "base",
   "language": "python",
   "name": "python3"
  },
  "language_info": {
   "codemirror_mode": {
    "name": "ipython",
    "version": 3
   },
   "file_extension": ".py",
   "mimetype": "text/x-python",
   "name": "python",
   "nbconvert_exporter": "python",
   "pygments_lexer": "ipython3",
   "version": "3.12.7"
  }
 },
 "nbformat": 4,
 "nbformat_minor": 5
}
